{
 "cells": [
  {
   "cell_type": "code",
   "execution_count": 1,
   "metadata": {},
   "outputs": [
    {
     "name": "stdout",
     "output_type": "stream",
     "text": [
      "Using cpu device\n"
     ]
    }
   ],
   "source": [
    "import torch \n",
    "from torch import nn\n",
    "import numpy as np\n",
    "from torchinfo import summary\n",
    "\n",
    "\n",
    "device = \"cuda\" if torch.cuda.is_available() else \"cpu\"\n",
    "print(f\"Using {device} device\")"
   ]
  },
  {
   "cell_type": "code",
   "execution_count": 20,
   "metadata": {},
   "outputs": [],
   "source": [
    "class NeuralNetwork(nn.Module):\n",
    "    def __init__(self):\n",
    "        super(NeuralNetwork, self).__init__()\n",
    "        self.flatten = nn.Flatten()\n",
    "        self.fcn = nn.Sequential(\n",
    "            nn.Linear(300, 256),\n",
    "            nn.ReLU(),\n",
    "            nn.Linear(256, 128),\n",
    "            nn.ReLU()\n",
    "        )\n",
    "        self.cnn = nn.Sequential(\n",
    "            nn.Conv2d(in_channels=1,\n",
    "                      out_channels=4,\n",
    "                      kernel_size=5,\n",
    "                      stride=1,\n",
    "                      padding=0),\n",
    "            nn.MaxPool2d(kernel_size=2, stride=2),\n",
    "            nn.Conv2d(in_channels=4,\n",
    "                      out_channels=8,\n",
    "                      kernel_size=3,\n",
    "                      stride=1,\n",
    "                      padding=0),\n",
    "            nn.MaxPool2d(kernel_size=2, stride=2),\n",
    "            nn.Conv2d(in_channels=8,\n",
    "                      out_channels=16,\n",
    "                      kernel_size=2,\n",
    "                      stride=1,\n",
    "                      padding=0),\n",
    "            nn.MaxPool2d(kernel_size=3, stride=2),\n",
    "            nn.Flatten()\n",
    "        )\n",
    "        self.fused_fcn = nn.Sequential(\n",
    "            nn.Linear(128+576, 128),\n",
    "            nn.ELU(),\n",
    "            nn.Linear(128, 64),\n",
    "            nn.ELU()\n",
    "        )\n",
    "\n",
    "    def forward(self, x):\n",
    "        n = 64\n",
    "        x = self.flatten(x)\n",
    "        image_input = x[:, :n*n].view(-1, 1, 64, 64)\n",
    "        vector_input = x[:, n*n:]\n",
    "        # print(image_input.shape)\n",
    "        # print(vector_input.shape)\n",
    "        # print(x.shape)\n",
    "        vector_out = self.fcn(vector_input)\n",
    "        image_out = self.cnn(image_input)\n",
    "        # print(vector_out.shape)\n",
    "        print(image_out.shape)\n",
    "        combined = torch.cat((vector_out, image_out), dim=-1)\n",
    "        # print(combined.shape)\n",
    "        out = self.fused_fcn(combined)\n",
    "\n",
    "        return \n"
   ]
  },
  {
   "cell_type": "code",
   "execution_count": 21,
   "metadata": {},
   "outputs": [
    {
     "name": "stdout",
     "output_type": "stream",
     "text": [
      "torch.Size([1, 576])\n",
      "==========================================================================================\n",
      "Layer (type:depth-idx)                   Output Shape              Param #\n",
      "==========================================================================================\n",
      "NeuralNetwork                            --                        --\n",
      "├─Flatten: 1-1                           [1, 4396]                 --\n",
      "├─Sequential: 1-2                        [1, 128]                  --\n",
      "│    └─Linear: 2-1                       [1, 256]                  77,056\n",
      "│    └─ReLU: 2-2                         [1, 256]                  --\n",
      "│    └─Linear: 2-3                       [1, 128]                  32,896\n",
      "│    └─ReLU: 2-4                         [1, 128]                  --\n",
      "├─Sequential: 1-3                        [1, 576]                  --\n",
      "│    └─Conv2d: 2-5                       [1, 4, 60, 60]            104\n",
      "│    └─MaxPool2d: 2-6                    [1, 4, 30, 30]            --\n",
      "│    └─Conv2d: 2-7                       [1, 8, 28, 28]            296\n",
      "│    └─MaxPool2d: 2-8                    [1, 8, 14, 14]            --\n",
      "│    └─Conv2d: 2-9                       [1, 16, 13, 13]           528\n",
      "│    └─MaxPool2d: 2-10                   [1, 16, 6, 6]             --\n",
      "│    └─Flatten: 2-11                     [1, 576]                  --\n",
      "├─Sequential: 1-4                        [1, 64]                   --\n",
      "│    └─Linear: 2-12                      [1, 128]                  90,240\n",
      "│    └─ELU: 2-13                         [1, 128]                  --\n",
      "│    └─Linear: 2-14                      [1, 64]                   8,256\n",
      "│    └─ELU: 2-15                         [1, 64]                   --\n",
      "==========================================================================================\n",
      "Total params: 209,376\n",
      "Trainable params: 209,376\n",
      "Non-trainable params: 0\n",
      "Total mult-adds (M): 0.90\n",
      "==========================================================================================\n",
      "Input size (MB): 0.02\n",
      "Forward/backward pass size (MB): 0.19\n",
      "Params size (MB): 0.84\n",
      "Estimated Total Size (MB): 1.05\n",
      "==========================================================================================\n"
     ]
    }
   ],
   "source": [
    "model = NeuralNetwork().to(device)\n",
    "print(summary(model, input_size=(1, 4396)))"
   ]
  },
  {
   "cell_type": "code",
   "execution_count": 23,
   "metadata": {},
   "outputs": [],
   "source": [
    "# 4096 x (64 x 64 + 300)\n",
    "input = torch.rand(1, 4396, device=device)\n",
    "# output = model(input)\n",
    "# print(output.shape)\n"
   ]
  },
  {
   "cell_type": "code",
   "execution_count": null,
   "metadata": {},
   "outputs": [],
   "source": []
  }
 ],
 "metadata": {
  "kernelspec": {
   "display_name": "Python 3.9.5 64-bit",
   "language": "python",
   "name": "python3"
  },
  "language_info": {
   "codemirror_mode": {
    "name": "ipython",
    "version": 3
   },
   "file_extension": ".py",
   "mimetype": "text/x-python",
   "name": "python",
   "nbconvert_exporter": "python",
   "pygments_lexer": "ipython3",
   "version": "3.9.5"
  },
  "orig_nbformat": 4,
  "vscode": {
   "interpreter": {
    "hash": "aee8b7b246df8f9039afb4144a1f6fd8d2ca17a180786b69acc140d282b71a49"
   }
  }
 },
 "nbformat": 4,
 "nbformat_minor": 2
}
