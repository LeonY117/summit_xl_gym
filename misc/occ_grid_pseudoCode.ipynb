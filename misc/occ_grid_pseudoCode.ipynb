{
 "cells": [
  {
   "cell_type": "markdown",
   "metadata": {},
   "source": [
    "# Occupancy Grid PseudoCode\n",
    "\n",
    "We first need to convert the actor_state_tensor to a more usable format, the information that we need should be stored into a dictionary like this:\n",
    "```\n",
    "{\n",
    "    walls: [\n",
    "        {pos_x: 0,\n",
    "        pos_y: 0,\n",
    "        width: 1,\n",
    "        height: 10,\n",
    "        theta: 0}, \n",
    "        ...\n",
    "    ], \n",
    "    obstacles: [\n",
    "        {pos_x: 0,\n",
    "        pos_y: 0,\n",
    "        width: 1,\n",
    "        height: 1,\n",
    "        theta: 0.32},\n",
    "        ...\n",
    "    ]\n",
    "    robot: [\n",
    "        {pos_x: 0, \n",
    "        pos_y: 0,\n",
    "        width: 1, \n",
    "        height: 1, \n",
    "        theta: 2.5}\n",
    "    ]\n",
    "}\n",
    "```\n",
    "\n",
    "Given an object's `pos_x`, `pos_y`, `width`, `height`, the upper and lower bound space that the object occupies is:\n",
    "\n",
    "x: [`pos_x` + `width`/2, `pos_x` - `width`/2] if orientation == 0 else  [`pos_x` + `height`/2, `pos_x` - `height`/2]\n",
    "\n",
    "y: [`pos_y` + `height`/2, `pos_y` - `height`/2] if orientation == 0 else [`pos_y` + `width`/2, `pos_y` - `width`/2]\n",
    "\n",
    "Let's assume that every room is the same dimension, and the occupancy grid represents a 10m x 10m space with a n x n grid\n",
    "\n",
    "In this space we represent each cell with the following notation:\n",
    "- 0: free space\n",
    "- 1: wall\n",
    "- 2: obstacle\n",
    "- 3: robot\n",
    "\n",
    "> Let's approach from the perspective that each object needs to be represented on the grid:\n",
    "\n",
    "### Naive approach:\n",
    "All cells that the x-y bound of the obstacle touches (with threshold > 25% of the grid?) will belong to this object;\n",
    "\n",
    "Where there multiple objects negotiating for a single cell, we choose the object with the largest area present\n",
    "\n",
    "should work if object size << grid size\n",
    "\n"
   ]
  },
  {
   "cell_type": "markdown",
   "metadata": {},
   "source": [
    "\n",
    "```\n",
    "class Occ_grid():\n",
    "    \n",
    "\n",
    "```"
   ]
  },
  {
   "cell_type": "code",
   "execution_count": null,
   "metadata": {},
   "outputs": [],
   "source": []
  }
 ],
 "metadata": {
  "kernelspec": {
   "display_name": "Python 3.6.9 64-bit",
   "language": "python",
   "name": "python3"
  },
  "language_info": {
   "name": "python",
   "version": "3.6.9"
  },
  "orig_nbformat": 4,
  "vscode": {
   "interpreter": {
    "hash": "31f2aee4e71d21fbe5cf8b01ff0e069b9275f58929596ceb00d14d90e3e16cd6"
   }
  }
 },
 "nbformat": 4,
 "nbformat_minor": 2
}
