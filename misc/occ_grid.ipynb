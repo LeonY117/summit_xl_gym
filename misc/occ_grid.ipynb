{
 "cells": [
  {
   "cell_type": "markdown",
   "metadata": {},
   "source": [
    "\n",
    "```\n",
    "{\n",
    "    walls: [\n",
    "        {pos_x: 0,\n",
    "        pos_y: 0,\n",
    "        width: 1,\n",
    "        height: 10,\n",
    "        theta: 0}, \n",
    "        ...\n",
    "    ], \n",
    "    obstacles: [\n",
    "        {pos_x: 0,\n",
    "        pos_y: 0,\n",
    "        width: 1,\n",
    "        height: 1,\n",
    "        theta: 0.32},\n",
    "        ...\n",
    "    ]\n",
    "    robot: [\n",
    "        {pos_x: 0, \n",
    "        pos_y: 0,\n",
    "        width: 1, \n",
    "        height: 1, \n",
    "        theta: 2.5}\n",
    "    ]\n",
    "}\n",
    "```\n"
   ]
  },
  {
   "cell_type": "markdown",
   "metadata": {},
   "source": [
    "### Approach with parameter $\\theta$\n",
    "\n",
    "Given an object's `pos_x`, `pos_y`, `width`, `height`, `theta`, we can derive the following four lines bounding the rectangular object:\n",
    "\n",
    "\"top\" and \"bottom\" bounds:\n",
    "$$\n",
    "y = -\\frac{1}{\\tan(\\theta)}x \\pm \\frac{h}{2}\\frac{1}{\\cos(\\theta)}\n",
    "$$\n",
    "\n",
    "\"right\" and \"left\" bounds:\n",
    "$$\n",
    "y = \\tan(\\theta)x \\pm \\frac{w}{2}\\frac{1}{\\sin(\\theta)}\n",
    "$$"
   ]
  },
  {
   "cell_type": "code",
   "execution_count": null,
   "metadata": {},
   "outputs": [],
   "source": [
    "import torch\n",
    "import matplotlib.pyplot as plt\n",
    "import numpy as np\n",
    "import random"
   ]
  },
  {
   "cell_type": "code",
   "execution_count": null,
   "metadata": {},
   "outputs": [],
   "source": [
    "def get_vertices(obj_state, obj_vertices, obj_rot_vertices, room_size=10, n=64):\n",
    "    w = obj_state[:, :, 2] * (n/room_size)\n",
    "    h = obj_state[:, :, 3] * (n/room_size)\n",
    "    d = ((w/2)**2 + (h/2)**2)**0.5\n",
    "    num_obj = obj_state.shape[1]\n",
    "\n",
    "    # only these need to be updated - object shape doesn't change\n",
    "    x_pos = obj_state[:, :, 0] * (n/room_size)\n",
    "    y_pos = obj_state[:, :, 1] * (n/room_size)\n",
    "    theta = obj_state[:, :, 4]\n",
    "\n",
    "    obj_vertices[:, :, 0, 0] = np.sin(np.arctan(w/h) + theta) * d + x_pos\n",
    "    obj_vertices[:, :, 0, 1] = np.cos(np.arctan(w/h) + theta) * d + y_pos\n",
    "    obj_vertices[:, :, 1, 0] = np.sin(\n",
    "        np.pi - np.arctan(w/h) + theta) * d + x_pos\n",
    "    obj_vertices[:, :, 1, 1] = np.cos(\n",
    "        np.pi - np.arctan(w/h) + theta) * d + y_pos\n",
    "    obj_vertices[:, :, 2, 0] = np.sin(\n",
    "        np.pi + np.arctan(w/h) + theta) * d + x_pos\n",
    "    obj_vertices[:, :, 2, 1] = np.cos(\n",
    "        np.pi + np.arctan(w/h) + theta) * d + y_pos\n",
    "    obj_vertices[:, :, 3, 0] = np.sin(-np.arctan(w/h) + theta) * d + x_pos\n",
    "    obj_vertices[:, :, 3, 1] = np.cos(-np.arctan(w/h) + theta) * d + y_pos\n",
    "\n",
    "    obj_rot_vertices[:, :, 1, :] = obj_vertices[:, :, 0, :]\n",
    "    obj_rot_vertices[:, :, 2, :] = obj_vertices[:, :, 1, :]\n",
    "    obj_rot_vertices[:, :, 3, :] = obj_vertices[:, :, 2, :]\n",
    "    obj_rot_vertices[:, :, 0, :] = obj_vertices[:, :, 3, :]\n",
    "\n",
    "    return obj_vertices.view(-1, 1, 1, num_obj*4, 2), obj_rot_vertices.view(-1, 1, 1, num_obj*4, 2)\n",
    "\n",
    "\n",
    "def get_occ_cells(Px, Py, vertices, rotated_vertices):\n",
    "\n",
    "    n = Py.shape[1]\n",
    "    num_envs = Py.shape[0]\n",
    "    b = vertices - rotated_vertices\n",
    "\n",
    "    out = torch.where(torch.mul(torch.sub(Px, vertices[:, :, :, :, 0]), b[:, :, :, :, 1]) -\n",
    "                      torch.mul(torch.sub(Py, vertices[:, :, :, :, 1]), b[:, :, :, :, 0]) <= 0, 0, 1)\n",
    "    \n",
    "    print(out.shape)\n",
    "\n",
    "    mask = torch.zeros((num_envs, n, n))\n",
    "    i = 0\n",
    "    while i < out.shape[-1]:\n",
    "        temp_mask = torch.ones((num_envs, n, n))\n",
    "        for j in range(4):\n",
    "            temp_mask = torch.mul(temp_mask, out[:, :, :, i+j])\n",
    "        # overwrite to mask\n",
    "        mask = torch.where(temp_mask != 0, torch.ones_like(mask), mask)\n",
    "        i += 4\n",
    "\n",
    "    return mask\n"
   ]
  },
  {
   "cell_type": "code",
   "execution_count": 54,
   "metadata": {},
   "outputs": [],
   "source": [
    "num_envs = 3\n",
    "room_size = 10\n",
    "n = 64\n",
    "walls = torch.tensor([[-1.6+5, 0+5, 8, 0.25, np.pi/2],\n",
    "                      [1.6+5, 0+5, 8, 0.25, np.pi/2],\n",
    "                      [0+5, 4+5, 3.2, 0.25, 0],\n",
    "                      [0+5, -4+5, 3.2, 0.25, 0],\n",
    "                      ]).unsqueeze(0).repeat(num_envs, 1, 1)\n",
    "boxes = torch.tensor([[-0.76+5, 0+5, 1, 1, random.random()*np.pi],\n",
    "                      [0.76+5, 0+5, 1, 1, random.random()*np.pi],\n",
    "                      ]).unsqueeze(0).repeat(num_envs, 1, 1)\n",
    "summit = torch.tensor([[0+5, -3+5, 0.98, 0.78, np.pi/2],\n",
    "                       ]).unsqueeze(0).repeat(num_envs, 1, 1)\n",
    "\n",
    "# walls = torch.tensor([[-10+12.5, 0+12.5, 10, 0.4, np.pi/2],\n",
    "#                       [10+12.5, 0+12.5, 10, 0.4, np.pi/2],\n",
    "#                       [0+12.5, 5+12.5, 20, 0.4, 0],\n",
    "#                       [0+12.5, -5+12.5, 20, 0.4, 0],\n",
    "#                       [-5+12.5, 1.5+12.5, 7, 0.4, np.pi/2],\n",
    "#                       [0+12.5, -2.5+12.5, 5, 0.4, np.pi/2],\n",
    "#                       [2+12.5, 0+12.5, 4, 0.4, 0],\n",
    "#                       [8+12.5, 0+12.5, 4, 0.4, 0],\n",
    "#                       ]).unsqueeze(0).repeat(num_envs, 1, 1)\n",
    "# boxes = torch.tensor([[-5+12.5, -3.5+12.5, 1, 1, np.pi/4],\n",
    "#                       [5+12.5, 0+12.5, 1, 1, 0],\n",
    "#                       ]).unsqueeze(0).repeat(num_envs, 1, 1)\n",
    "# summit = torch.tensor([[-7.5+12.5, 2.5+12.5, 0.98, 0.78, np.pi/2],\n",
    "#                        ]).unsqueeze(0).repeat(num_envs, 1, 1)\n",
    "num_walls = walls.shape[1]\n",
    "num_boxes = boxes.shape[1]\n",
    "num_summit = 1\n",
    "\n",
    "walls_vertices = torch.zeros(num_envs, num_walls, 4, 2)\n",
    "rotated_walls_vertices = torch.zeros_like(walls_vertices)\n",
    "walls_vertices, rotated_walls_vertices = get_vertices(\n",
    "    walls, walls_vertices, rotated_walls_vertices, n=n, room_size=room_size)\n",
    "\n",
    "boxes_vertices = torch.zeros(num_envs, num_boxes, 4, 2)\n",
    "rotated_boxes_vertices = torch.zeros_like(boxes_vertices)\n",
    "boxes_vertices, rotated_boxes_vertices = get_vertices(\n",
    "    boxes, boxes_vertices, rotated_boxes_vertices, n=n, room_size=room_size)\n",
    "\n",
    "summit_vertices = torch.zeros(num_envs, num_summit, 4, 2)\n",
    "rotated_summit_vertices = torch.zeros_like(summit_vertices)\n",
    "summit_vertices, rotated_summit_vertices = get_vertices(\n",
    "    summit, summit_vertices, rotated_summit_vertices, n=n, room_size=room_size)\n"
   ]
  },
  {
   "cell_type": "code",
   "execution_count": 55,
   "metadata": {},
   "outputs": [],
   "source": [
    "Px_walls = torch.tensor(list(range(n))).unsqueeze(\n",
    "    dim=-1).unsqueeze(dim=-1).repeat(num_envs, 1, 1, num_walls*4)\n",
    "Py_walls = torch.transpose(Px_walls, 1, 2)\n",
    "walls_grid = get_occ_cells(Py_walls, Px_walls, walls_vertices, rotated_walls_vertices)\n",
    "\n",
    "Px_boxes = torch.tensor(list(range(n))).unsqueeze(\n",
    "    dim=-1).unsqueeze(dim=-1).repeat(num_envs, 1, 1, num_boxes*4)\n",
    "Py_boxes = torch.transpose(Px_boxes, 1, 2)\n",
    "boxes_grid = get_occ_cells(Py_boxes, Px_boxes, boxes_vertices, rotated_boxes_vertices)\n",
    "\n",
    "Px_summit = torch.tensor(list(range(n))).unsqueeze(\n",
    "    dim=-1).unsqueeze(dim=-1).repeat(num_envs, 1, 1, num_summit*4)\n",
    "Py_summit = torch.transpose(Px_summit, 1, 2)\n",
    "summit_grid = get_occ_cells(Py_summit, Px_summit, summit_vertices, rotated_summit_vertices)\n"
   ]
  },
  {
   "cell_type": "code",
   "execution_count": 56,
   "metadata": {},
   "outputs": [],
   "source": [
    "occ_grid = boxes_grid * 2\n",
    "occ_grid = torch.where(summit_grid > 0, summit_grid * 3, occ_grid)\n",
    "occ_grid = torch.where(walls_grid > 0, walls_grid, occ_grid)"
   ]
  },
  {
   "cell_type": "code",
   "execution_count": 57,
   "metadata": {},
   "outputs": [
    {
     "data": {
      "image/png": "[encoded data removed]",
      "text/plain": [
       "<Figure size 720x720 with 1 Axes>"
      ]
     },
     "metadata": {},
     "output_type": "display_data"
    }
   ],
   "source": [
    "# plot rasterized rectangle\n",
    "fig, ax = plt.subplots(1, 1, figsize=(10, 10))\n",
    "ticks = np.linspace(0.5, n-0.5, n)\n",
    "ax.set_xticks(ticks, minor=True)\n",
    "ax.set_yticks(ticks, minor=True)\n",
    "ax.axes.xaxis.set_ticks([])\n",
    "ax.axes.yaxis.set_ticks([])\n",
    "ax.grid(which='minor', alpha=0.3)\n",
    "\n",
    "ax.imshow(occ_grid[0])\n",
    "\n",
    "plt.xlim(0, n)\n",
    "plt.ylim(0, n)\n",
    "plt.tight_layout()\n"
   ]
  },
  {
   "cell_type": "code",
   "execution_count": null,
   "metadata": {},
   "outputs": [],
   "source": []
  }
 ],
 "metadata": {
  "kernelspec": {
   "display_name": "Python 3.8.2 64-bit",
   "language": "python",
   "name": "python3"
  },
  "language_info": {
   "codemirror_mode": {
    "name": "ipython",
    "version": 3
   },
   "file_extension": ".py",
   "mimetype": "text/x-python",
   "name": "python",
   "nbconvert_exporter": "python",
   "pygments_lexer": "ipython3",
   "version": "3.8.2"
  },
  "orig_nbformat": 4,
  "vscode": {
   "interpreter": {
    "hash": "31f2aee4e71d21fbe5cf8b01ff0e069b9275f58929596ceb00d14d90e3e16cd6"
   }
  }
 },
 "nbformat": 4,
 "nbformat_minor": 2
}
